{
 "cells": [
  {
   "cell_type": "code",
   "execution_count": 1,
   "metadata": {
    "collapsed": false
   },
   "outputs": [
    {
     "data": {
      "text/html": [
       "\n",
       "    <div class=\"bk-banner\">\n",
       "        <a href=\"http://bokeh.pydata.org\" target=\"_blank\" class=\"bk-logo bk-logo-small bk-logo-notebook\"></a>\n",
       "        <span id=\"7128de76-ac8c-44bb-9034-95d996f0474b\">Loading BokehJS ...</span>\n",
       "    </div>"
      ]
     },
     "metadata": {},
     "output_type": "display_data"
    },
    {
     "data": {
      "application/javascript": [
       "\n",
       "(function(global) {\n",
       "  function now() {\n",
       "    return new Date();\n",
       "  }\n",
       "\n",
       "  if (typeof (window._bokeh_onload_callbacks) === \"undefined\") {\n",
       "    window._bokeh_onload_callbacks = [];\n",
       "  }\n",
       "\n",
       "  function run_callbacks() {\n",
       "    window._bokeh_onload_callbacks.forEach(function(callback) { callback() });\n",
       "    delete window._bokeh_onload_callbacks\n",
       "    console.info(\"Bokeh: all callbacks have finished\");\n",
       "  }\n",
       "\n",
       "  function load_libs(js_urls, callback) {\n",
       "    window._bokeh_onload_callbacks.push(callback);\n",
       "    if (window._bokeh_is_loading > 0) {\n",
       "      console.log(\"Bokeh: BokehJS is being loaded, scheduling callback at\", now());\n",
       "      return null;\n",
       "    }\n",
       "    if (js_urls == null || js_urls.length === 0) {\n",
       "      run_callbacks();\n",
       "      return null;\n",
       "    }\n",
       "    console.log(\"Bokeh: BokehJS not loaded, scheduling load and callback at\", now());\n",
       "    window._bokeh_is_loading = js_urls.length;\n",
       "    for (var i = 0; i < js_urls.length; i++) {\n",
       "      var url = js_urls[i];\n",
       "      var s = document.createElement('script');\n",
       "      s.src = url;\n",
       "      s.async = false;\n",
       "      s.onreadystatechange = s.onload = function() {\n",
       "        window._bokeh_is_loading--;\n",
       "        if (window._bokeh_is_loading === 0) {\n",
       "          console.log(\"Bokeh: all BokehJS libraries loaded\");\n",
       "          run_callbacks()\n",
       "        }\n",
       "      };\n",
       "      s.onerror = function() {\n",
       "        console.warn(\"failed to load library \" + url);\n",
       "      };\n",
       "      console.log(\"Bokeh: injecting script tag for BokehJS library: \", url);\n",
       "      document.getElementsByTagName(\"head\")[0].appendChild(s);\n",
       "    }\n",
       "  };\n",
       "\n",
       "  var js_urls = ['https://cdn.pydata.org/bokeh/release/bokeh-0.11.1.min.js', 'https://cdn.pydata.org/bokeh/release/bokeh-widgets-0.11.1.min.js', 'https://cdn.pydata.org/bokeh/release/bokeh-compiler-0.11.1.min.js'];\n",
       "\n",
       "  var inline_js = [\n",
       "    function(Bokeh) {\n",
       "      Bokeh.set_log_level(\"info\");\n",
       "    },\n",
       "    \n",
       "    function(Bokeh) {\n",
       "      Bokeh.$(\"#7128de76-ac8c-44bb-9034-95d996f0474b\").text(\"BokehJS successfully loaded\");\n",
       "    },\n",
       "    function(Bokeh) {\n",
       "      console.log(\"Bokeh: injecting CSS: https://cdn.pydata.org/bokeh/release/bokeh-0.11.1.min.css\");\n",
       "      Bokeh.embed.inject_css(\"https://cdn.pydata.org/bokeh/release/bokeh-0.11.1.min.css\");\n",
       "      console.log(\"Bokeh: injecting CSS: https://cdn.pydata.org/bokeh/release/bokeh-widgets-0.11.1.min.css\");\n",
       "      Bokeh.embed.inject_css(\"https://cdn.pydata.org/bokeh/release/bokeh-widgets-0.11.1.min.css\");\n",
       "    }\n",
       "  ];\n",
       "\n",
       "  function run_inline_js() {\n",
       "    for (var i = 0; i < inline_js.length; i++) {\n",
       "      inline_js[i](window.Bokeh);\n",
       "    }\n",
       "  }\n",
       "\n",
       "  if (window._bokeh_is_loading === 0) {\n",
       "    console.log(\"Bokeh: BokehJS loaded, going straight to plotting\");\n",
       "    run_inline_js();\n",
       "  } else {\n",
       "    load_libs(js_urls, function() {\n",
       "      console.log(\"Bokeh: BokehJS plotting callback run at\", now());\n",
       "      run_inline_js();\n",
       "    });\n",
       "  }\n",
       "}(this));"
      ]
     },
     "metadata": {},
     "output_type": "display_data"
    }
   ],
   "source": [
    "%load_ext autoreload\n",
    "%autoreload 1\n",
    "from node2vec import *\n",
    "from experiment import *\n",
    "from composite_experiment import *\n",
    "from tabulate import tabulate\n",
    "output_notebook()\n",
    "import warnings\n",
    "warnings.filterwarnings(\"ignore\")"
   ]
  },
  {
   "cell_type": "markdown",
   "metadata": {},
   "source": [
    "Los objetos que están entrando en el arbol de decisión parece que tienen 20 atributos! Mirar también los atributos del "
   ]
  },
  {
   "cell_type": "code",
   "execution_count": 2,
   "metadata": {
    "collapsed": false
   },
   "outputs": [
    {
     "data": {
      "text/plain": [
       "array([['80.52%', '16.64%', '2.84%'],\n",
       "       ['82.05%', '14.38%', '3.57%'],\n",
       "       ['23.99%', '8.0%', '68.02%']], \n",
       "      dtype='|S32')"
      ]
     },
     "execution_count": 2,
     "metadata": {},
     "output_type": "execute_result"
    }
   ],
   "source": [
    "sys.setrecursionlimit(100000)\n",
    "e = experiment(\"cine\",7474,\"neo4j\",\"pytpytpyt\",\"name\",\"normal\",\"-\",1,1)\n",
    "e.nmultitype_conf_matrix([\"Actor\",\"Director\"],8)"
   ]
  },
  {
   "cell_type": "code",
   "execution_count": 2,
   "metadata": {
    "collapsed": false
   },
   "outputs": [
    {
     "data": {
      "text/plain": [
       "array([['79.71%', '14.87%', '5.42%'],\n",
       "       ['76.93%', '16.61%', '6.46%'],\n",
       "       ['6.85%', '2.28%', '90.86%']], \n",
       "      dtype='|S32')"
      ]
     },
     "execution_count": 2,
     "metadata": {},
     "output_type": "execute_result"
    }
   ],
   "source": [
    "sys.setrecursionlimit(100000)\n",
    "e = experiment(\"cine\",7474,\"neo4j\",\"pytpytpyt\",\"name\",\"normal\",\"-\",1,1)\n",
    "e.nmultitype_conf_matrix([\"Actor\",\"Director\"],2)"
   ]
  },
  {
   "cell_type": "code",
   "execution_count": 3,
   "metadata": {
    "collapsed": false
   },
   "outputs": [
    {
     "data": {
      "text/plain": [
       "array([['80.8%', '15.8%', '3.4%'],\n",
       "       ['80.09%', '15.68%', '4.23%'],\n",
       "       ['8.4%', '3.43%', '88.18%']], \n",
       "      dtype='|S32')"
      ]
     },
     "execution_count": 3,
     "metadata": {},
     "output_type": "execute_result"
    }
   ],
   "source": [
    "sys.setrecursionlimit(100000)\n",
    "e = experiment(\"cine\",7474,\"neo4j\",\"pytpytpyt\",\"name\",\"normal\",\"-\",1,1)\n",
    "e.nmultitype_conf_matrix([\"Actor\",\"Director\"],3)"
   ]
  },
  {
   "cell_type": "code",
   "execution_count": 4,
   "metadata": {
    "collapsed": false
   },
   "outputs": [
    {
     "data": {
      "text/plain": [
       "array([['80.48%', '16.77%', '2.75%'],\n",
       "       ['80.96%', '15.79%', '3.25%'],\n",
       "       ['10.91%', '4.0%', '85.09%']], \n",
       "      dtype='|S32')"
      ]
     },
     "execution_count": 4,
     "metadata": {},
     "output_type": "execute_result"
    }
   ],
   "source": [
    "sys.setrecursionlimit(100000)\n",
    "e = experiment(\"cine\",7474,\"neo4j\",\"pytpytpyt\",\"name\",\"normal\",\"-\",1,1)\n",
    "e.nmultitype_conf_matrix([\"Actor\",\"Director\"],4)"
   ]
  },
  {
   "cell_type": "code",
   "execution_count": 5,
   "metadata": {
    "collapsed": false
   },
   "outputs": [
    {
     "data": {
      "text/plain": [
       "array([['80.18%', '16.81%', '3.02%'],\n",
       "       ['81.01%', '15.19%', '3.8%'],\n",
       "       ['16.22%', '4.8%', '78.98%']], \n",
       "      dtype='|S32')"
      ]
     },
     "execution_count": 5,
     "metadata": {},
     "output_type": "execute_result"
    }
   ],
   "source": [
    "sys.setrecursionlimit(100000)\n",
    "e = experiment(\"cine\",7474,\"neo4j\",\"pytpytpyt\",\"name\",\"normal\",\"-\",1,1)\n",
    "e.nmultitype_conf_matrix([\"Actor\",\"Director\"],5)"
   ]
  },
  {
   "cell_type": "code",
   "execution_count": 6,
   "metadata": {
    "collapsed": false
   },
   "outputs": [
    {
     "data": {
      "text/plain": [
       "array([['79.27%', '17.85%', '2.88%'],\n",
       "       ['79.99%', '16.36%', '3.65%'],\n",
       "       ['19.42%', '6.34%', '74.24%']], \n",
       "      dtype='|S32')"
      ]
     },
     "execution_count": 6,
     "metadata": {},
     "output_type": "execute_result"
    }
   ],
   "source": [
    "sys.setrecursionlimit(100000)\n",
    "e = experiment(\"cine\",7474,\"neo4j\",\"pytpytpyt\",\"name\",\"normal\",\"-\",1,1)\n",
    "e.nmultitype_conf_matrix([\"Actor\",\"Director\"],6)"
   ]
  },
  {
   "cell_type": "code",
   "execution_count": 2,
   "metadata": {
    "collapsed": false
   },
   "outputs": [
    {
     "data": {
      "text/plain": [
       "array([['79.94%', '17.33%', '2.73%'],\n",
       "       ['80.5%', '15.81%', '3.7%'],\n",
       "       ['21.76%', '6.8%', '71.44%']], \n",
       "      dtype='|S32')"
      ]
     },
     "execution_count": 2,
     "metadata": {},
     "output_type": "execute_result"
    }
   ],
   "source": [
    "sys.setrecursionlimit(100000)\n",
    "e = experiment(\"cine\",7474,\"neo4j\",\"pytpytpyt\",\"name\",\"normal\",\"-\",1,1)\n",
    "e.nmultitype_conf_matrix([\"Actor\",\"Director\"],7)"
   ]
  },
  {
   "cell_type": "code",
   "execution_count": 2,
   "metadata": {
    "collapsed": false
   },
   "outputs": [
    {
     "data": {
      "text/plain": [
       "array([['81.2%', '10.56%', '8.23%'],\n",
       "       ['78.76%', '15.04%', '6.19%'],\n",
       "       ['12.83%', '1.51%', '85.66%']], \n",
       "      dtype='|S32')"
      ]
     },
     "execution_count": 2,
     "metadata": {},
     "output_type": "execute_result"
    }
   ],
   "source": [
    "sys.setrecursionlimit(100000)\n",
    "e = experiment(\"cine\",7474,\"neo4j\",\"pytpytpyt\",\"name\",\"normal\",\"-\",1,1)\n",
    "e.nmultitype_conf_matrix([\"Actor\",\"Director\"],8)"
   ]
  },
  {
   "cell_type": "code",
   "execution_count": 15,
   "metadata": {
    "collapsed": false
   },
   "outputs": [],
   "source": [
    "Y[60000]\n",
    "print Y"
   ]
  }
 ],
 "metadata": {
  "kernelspec": {
   "display_name": "Python 2",
   "language": "python",
   "name": "python2"
  },
  "language_info": {
   "codemirror_mode": {
    "name": "ipython",
    "version": 2
   },
   "file_extension": ".py",
   "mimetype": "text/x-python",
   "name": "python",
   "nbconvert_exporter": "python",
   "pygments_lexer": "ipython2",
   "version": "2.7.6"
  }
 },
 "nbformat": 4,
 "nbformat_minor": 0
}
